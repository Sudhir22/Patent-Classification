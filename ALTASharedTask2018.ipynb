{
 "cells": [
  {
   "cell_type": "markdown",
   "metadata": {},
   "source": [
    "ALTA Shared Task 2018"
   ]
  },
  {
   "cell_type": "code",
   "execution_count": 28,
   "metadata": {},
   "outputs": [],
   "source": [
    "import numpy as np\n",
    "import pandas as pd\n",
    "import nltk"
   ]
  },
  {
   "cell_type": "code",
   "execution_count": 52,
   "metadata": {},
   "outputs": [
    {
     "name": "stdout",
     "output_type": "stream",
     "text": [
      "   id first_ipc_mark_section  \\\n",
      "0   0                      A   \n",
      "1   1                      G   \n",
      "2   2                      A   \n",
      "3   3                      A   \n",
      "4   4                      D   \n",
      "\n",
      "                                         description  \n",
      "0  ABSTRACT\\n\\n  The disclosure relates to a meth...  \n",
      "1  ABSTRACT\\n\\n       A system and method are pro...  \n",
      "2  ABSTRACT\\n\\nA media module 10 for use with at ...  \n",
      "3  ABSTRACT\\n\\n          A support garment having...  \n",
      "4  THERMALLY REACTIVE THERMOPLASTIC INTERMEDIATE ...  \n"
     ]
    }
   ],
   "source": [
    "#Preparing dataframe for the training data\n",
    "train_data=pd.read_csv('train_data.csv')\n",
    "description=list()\n",
    "for id in train_data.id:\n",
    "    with open('patents/'+str(id)+'.txt',encoding='utf8',errors='ignore') as f:\n",
    "        x=f.read()\n",
    "        description.append(x.strip())\n",
    "train_data['description']=description\n",
    "\n",
    "\n",
    "print(train_data.head())\n"
   ]
  },
  {
   "cell_type": "code",
   "execution_count": 54,
   "metadata": {},
   "outputs": [],
   "source": [
    "#Converting description into tokens\n",
    "def preprocessor(text):\n",
    "    __tokenization_pattern = r'''(?x)          # set flag to allow verbose regexps\n",
    "        \\$?\\d+(?:\\.\\d+)?%?  # currency and percentages, e.g. $12.40, 82%\n",
    "      | (?:[A-Z]\\.)+        # abbreviations, e.g. U.S.A.\n",
    "      | \\w+(?:-\\w+)*        # words with optional internal hyphens\n",
    "      | \\.\\.\\.              # ellipsis\n",
    "      | [][.,;\"'?():_`-]    # these are separate tokens; includes ], [\n",
    "    '''\n",
    "\n",
    "    ## call it using tokenizer.tokenize\n",
    "    tokenizer = nltk.tokenize.regexp.RegexpTokenizer(__tokenization_pattern)\n",
    "    tokens = tokenizer.tokenize(text.lower())\n",
    "    alphabet_tokens = [token for token in tokens if token.isalpha()]\n",
    "    en_stopwords = set(nltk.corpus.stopwords.words('english'))\n",
    "    non_stopwords = [word for word in alphabet_tokens if not word in en_stopwords]\n",
    "    stemmer = nltk.stem.snowball.SnowballStemmer(\"english\")\n",
    "    stems = [str(stemmer.stem(word)) for word in non_stopwords]\n",
    "    \n",
    "    return stems\n",
    "\n",
    "train_data['description_tokens'] = train_data['description'].apply(preprocessor)\n"
   ]
  },
  {
   "cell_type": "code",
   "execution_count": 55,
   "metadata": {},
   "outputs": [
    {
     "name": "stdout",
     "output_type": "stream",
     "text": [
      "   id first_ipc_mark_section  \\\n",
      "0   0                      A   \n",
      "1   1                      G   \n",
      "2   2                      A   \n",
      "3   3                      A   \n",
      "4   4                      D   \n",
      "\n",
      "                                         description  \\\n",
      "0  ABSTRACT\\n\\n  The disclosure relates to a meth...   \n",
      "1  ABSTRACT\\n\\n       A system and method are pro...   \n",
      "2  ABSTRACT\\n\\nA media module 10 for use with at ...   \n",
      "3  ABSTRACT\\n\\n          A support garment having...   \n",
      "4  THERMALLY REACTIVE THERMOPLASTIC INTERMEDIATE ...   \n",
      "\n",
      "                                  description_tokens  \n",
      "0  [abstract, disclosur, relat, method, gradual, ...  \n",
      "1  [abstract, system, method, provid, execut, mul...  \n",
      "2  [abstract, media, modul, use, least, one, item...  \n",
      "3  [abstract, support, garment, flexibl, panel, f...  \n",
      "4  [thermal, reactiv, thermoplast, intermedi, pro...  \n"
     ]
    }
   ],
   "source": [
    "print(train_data.head())"
   ]
  },
  {
   "cell_type": "code",
   "execution_count": null,
   "metadata": {},
   "outputs": [],
   "source": []
  }
 ],
 "metadata": {
  "kernelspec": {
   "display_name": "Python 3",
   "language": "python",
   "name": "python3"
  },
  "language_info": {
   "codemirror_mode": {
    "name": "ipython",
    "version": 3
   },
   "file_extension": ".py",
   "mimetype": "text/x-python",
   "name": "python",
   "nbconvert_exporter": "python",
   "pygments_lexer": "ipython3",
   "version": "3.6.5"
  }
 },
 "nbformat": 4,
 "nbformat_minor": 2
}
